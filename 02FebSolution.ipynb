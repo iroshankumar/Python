{
 "cells": [
  {
   "cell_type": "code",
   "execution_count": null,
   "id": "a295d103-6e4f-40e5-ac0e-054596107b77",
   "metadata": {},
   "outputs": [],
   "source": [
    "Q1. Explain with an example each when to use a for loop and a while loop."
   ]
  },
  {
   "cell_type": "code",
   "execution_count": null,
   "id": "3374ea37-8c20-41dc-a2d9-e3c993888a5c",
   "metadata": {},
   "outputs": [],
   "source": [
    "For Loop:\n",
    "A for loop is a control flow statement that executes code for a predefined number of iterations.\n",
    "The keyword used in this control flow statement is “for”.\n",
    "When the number of iterations is already known, the for loop is used.\n",
    "While Loop:\n",
    "A loop that runs a single statement or a set of statements for a given true condition.\n",
    "This loop is represented by the keyword \"while.\" When the number of iterations is unknown, a \"while\" loop is used.\n",
    "The statement is repeated until the boolean value is false. Because the condition is tested at the beginning of a while loop,\n",
    "it is also known as the pre-test loop."
   ]
  },
  {
   "cell_type": "code",
   "execution_count": null,
   "id": "a1043a75-b86c-47e5-91d0-56389336845c",
   "metadata": {},
   "outputs": [],
   "source": [
    "Q2. Write a python program to print the sum and product of the first 10 natural numbers using for\n",
    "and while loop."
   ]
  },
  {
   "cell_type": "code",
   "execution_count": 2,
   "id": "167ff714-a72a-4099-8199-3e6a6668c0a8",
   "metadata": {},
   "outputs": [
    {
     "name": "stdout",
     "output_type": "stream",
     "text": [
      "55\n",
      "3628800\n"
     ]
    }
   ],
   "source": [
    "sumNum=0\n",
    "proNum=1\n",
    "for i in range(1,11):\n",
    "    sumNum+=i\n",
    "    proNum=proNum*i\n",
    "print(sumNum)\n",
    "print(proNum)\n",
    "    "
   ]
  },
  {
   "cell_type": "code",
   "execution_count": null,
   "id": "95ea4bd9-9fb0-46fc-8cd6-9da999f802b4",
   "metadata": {},
   "outputs": [],
   "source": [
    "Q3. Create a python program to compute the electricity bill for a household.\n",
    "The per-unit charges in rupees are as follows: For the first 100 units, the user will be charged Rs. 4.5 per\n",
    "unit, for the next 100 units, the user will be charged Rs. 6 per unit, and for the next 100 units, the user will\n",
    "be charged Rs. 10 per unit, After 300 units and above the user will be charged Rs. 20 per unit."
   ]
  },
  {
   "cell_type": "code",
   "execution_count": 4,
   "id": "eea5e1be-5780-4b1d-856b-da03207d1388",
   "metadata": {},
   "outputs": [
    {
     "name": "stdin",
     "output_type": "stream",
     "text": [
      "what is your electry city unit 310\n"
     ]
    },
    {
     "name": "stdout",
     "output_type": "stream",
     "text": [
      "Total electricity bill is :  2250.0\n"
     ]
    }
   ],
   "source": [
    "unit=int(input(\"what is your electry city unit\"))\n",
    "total=0\n",
    "for i in range(unit+1):\n",
    "    if i <=100:\n",
    "        sum1=i*4.5\n",
    "    elif i>100 and i<=200:\n",
    "        i=i-100\n",
    "        sum2=i*6\n",
    "    elif i>200 and i<=300:\n",
    "        i=i-200\n",
    "        sum3=i*10\n",
    "    else:\n",
    "        i=i-300\n",
    "        sum4=i*20\n",
    "total=sum1+sum2+sum3+sum4\n",
    "print(\"Total electricity bill is : \",total)"
   ]
  },
  {
   "cell_type": "code",
   "execution_count": null,
   "id": "4d87e315-c921-4bbf-bfeb-ad6215573e60",
   "metadata": {},
   "outputs": [],
   "source": []
  },
  {
   "cell_type": "code",
   "execution_count": null,
   "id": "32c6413f-0466-4063-ac77-c4e61cba0b24",
   "metadata": {},
   "outputs": [],
   "source": [
    "Q4. Create a list of numbers from 1 to 100. Use for loop and while loop to calculate the cube of each\n",
    "number and if the cube of that number is divisible by 4 or 5 then append that number in a list and print\n",
    "that list."
   ]
  },
  {
   "cell_type": "code",
   "execution_count": 14,
   "id": "cc2b4441-0d3a-41a4-a005-237e482a6811",
   "metadata": {},
   "outputs": [
    {
     "name": "stdout",
     "output_type": "stream",
     "text": [
      "[8, 64, 216, 512, 1000, 1728, 2744, 4096, 5832, 8000, 10648, 13824, 17576, 21952, 27000, 32768, 39304, 46656, 54872, 64000, 74088, 85184, 97336, 110592, 125000, 140608, 157464, 175616, 195112, 216000, 238328, 262144, 287496, 314432, 343000, 373248, 405224, 438976, 474552, 512000, 551368, 592704, 636056, 681472, 729000, 778688, 830584, 884736, 941192, 1000000]\n"
     ]
    }
   ],
   "source": [
    "l=[]\n",
    "for i in range(1,101):\n",
    "    l.append(i)\n",
    "l1=[]\n",
    "a=0\n",
    "for i in l:\n",
    "    l1.append(i**3)\n",
    "l3=[]\n",
    "for i in l1:\n",
    "    if i%4==0 or i%4==0:\n",
    "        l3.append(i)\n",
    "    else:\n",
    "        pass\n",
    "print(l3)\n",
    "\n",
    "    \n"
   ]
  },
  {
   "cell_type": "code",
   "execution_count": null,
   "id": "44aaffff-513b-4fe2-b645-dab2ccd842c1",
   "metadata": {},
   "outputs": [],
   "source": [
    "\n"
   ]
  },
  {
   "cell_type": "code",
   "execution_count": 17,
   "id": "f29aa135-0fb4-404c-ab9b-24d328c44305",
   "metadata": {},
   "outputs": [
    {
     "name": "stdout",
     "output_type": "stream",
     "text": [
      "12\n"
     ]
    }
   ],
   "source": [
    "s=\"I want to become a data scientist\"\n",
    "count=0\n",
    "for i in s:\n",
    "    if i == \"a\" or i == \"e\" or i == \"i\" or i == \"o\" or  i == \"u\":\n",
    "        count=count+1\n",
    "    elif i == \"A\" or i == \"E\" or i == \"I\" or i == \"O\" or  i == \"U\":\n",
    "        count= count+1\n",
    "    else:\n",
    "        pass\n",
    "print (count)"
   ]
  },
  {
   "cell_type": "code",
   "execution_count": null,
   "id": "3f543afb-b551-448c-a71a-314f5532e658",
   "metadata": {},
   "outputs": [],
   "source": []
  }
 ],
 "metadata": {
  "kernelspec": {
   "display_name": "Python 3 (ipykernel)",
   "language": "python",
   "name": "python3"
  },
  "language_info": {
   "codemirror_mode": {
    "name": "ipython",
    "version": 3
   },
   "file_extension": ".py",
   "mimetype": "text/x-python",
   "name": "python",
   "nbconvert_exporter": "python",
   "pygments_lexer": "ipython3",
   "version": "3.10.8"
  }
 },
 "nbformat": 4,
 "nbformat_minor": 5
}
