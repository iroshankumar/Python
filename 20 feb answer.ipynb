{
  "metadata": {
    "language_info": {
      "codemirror_mode": {
        "name": "python",
        "version": 3
      },
      "file_extension": ".py",
      "mimetype": "text/x-python",
      "name": "python",
      "nbconvert_exporter": "python",
      "pygments_lexer": "ipython3",
      "version": "3.8"
    },
    "kernelspec": {
      "name": "python",
      "display_name": "Python (Pyodide)",
      "language": "python"
    }
  },
  "nbformat_minor": 4,
  "nbformat": 4,
  "cells": [
    {
      "cell_type": "markdown",
      "source": "### Q1. Explain GET and POST Methods:\n\nGET Method: GET requests are used to retrieve data from the server. When you type a URL into your browser and press Enter, you're making a GET request to the server to fetch and display a web page. In the context of forms, GET requests are used when the form parameters are included in the URL. They are visible in the browser's address bar.\n\nPOST Method: POST requests are used to send data to the server to create a new resource. When you submit a form that uses the POST method, the form data is sent in the body of the request. Unlike GET requests, POST requests don't append data to the URL, making them more secure for passing sensitive information.\n\n### Q2. Why is request Used in Flask?\n\nrequest in Flask is an object that represents the incoming HTTP request sent by the client. It contains data such as form inputs, the values of URL parameters, uploaded files, and more. In Flask applications, developers use the request object to access this data, process form submissions, handle file uploads, and make decisions based on the client's request.\n\n### Q3. Why is redirect() Used in Flask?\n\nThe redirect() function in Flask is used to redirect the client to a different URL. This can be useful in various scenarios, such as after processing a form submission, you might want to redirect the user to a thank-you page. It helps in navigation and providing a smooth user experience.\n\n### Q4. What are Templates in Flask? Why is the render_template() Function Used?\n\nTemplates in Flask allow you to separate the structure of your HTML code from the logic in your Python application. By using templates, you can create dynamic web pages where the content can change based on variables, conditions, and loops defined in your Python code. The render_template() function in Flask is used to render these templates. It takes a template file as an argument and can pass variables to the template to be rendered dynamically.",
      "metadata": {}
    },
    {
      "cell_type": "code",
      "source": "",
      "metadata": {},
      "execution_count": null,
      "outputs": []
    }
  ]
}