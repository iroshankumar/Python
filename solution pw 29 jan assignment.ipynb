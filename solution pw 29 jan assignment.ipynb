{
 "cells": [
  {
   "cell_type": "markdown",
   "id": "ab5b4008",
   "metadata": {},
   "source": [
    "1.Who developed Python Programming language?"
   ]
  },
  {
   "cell_type": "markdown",
   "id": "bab0adcf",
   "metadata": {},
   "source": [
    " Guido van Rossum was the developer of python programmer language."
   ]
  },
  {
   "cell_type": "markdown",
   "id": "f87851ab",
   "metadata": {},
   "source": [
    "2.which type of Programming dose Python Support?"
   ]
  },
  {
   "cell_type": "markdown",
   "id": "7c26486e",
   "metadata": {},
   "source": [
    "python supports object-oriented programming language."
   ]
  },
  {
   "cell_type": "markdown",
   "id": "2d97bf37",
   "metadata": {},
   "source": [
    "3.is python a case sensitive language when dealing with identifiers?"
   ]
  },
  {
   "cell_type": "markdown",
   "id": "05c6cb12",
   "metadata": {},
   "source": [
    "Yes, Python is a case-sensitive language."
   ]
  },
  {
   "cell_type": "markdown",
   "id": "c0c20515",
   "metadata": {},
   "source": [
    "4.what is the correct extension of the python file?"
   ]
  },
  {
   "cell_type": "markdown",
   "id": "9183fb4d",
   "metadata": {},
   "source": [
    ".(dot)py is the correct extension used for python."
   ]
  },
  {
   "cell_type": "markdown",
   "id": "3b8ddfbc",
   "metadata": {},
   "source": [
    "5.is python code is compiled or interpreted?"
   ]
  },
  {
   "cell_type": "markdown",
   "id": "e60256ab",
   "metadata": {},
   "source": [
    "python code is  interpreted."
   ]
  },
  {
   "cell_type": "markdown",
   "id": "f950ced9",
   "metadata": {},
   "source": [
    "6.Name a few block of code used to define in python language"
   ]
  },
  {
   "cell_type": "markdown",
   "id": "ebae23ac",
   "metadata": {},
   "source": [
    "\"\"\"BLOCK OF CODE \"\"\"\n",
    "Example:-\n",
    "a=1\n",
    "b=10\n",
    "c=a+b\n",
    "Print(C)\n"
   ]
  },
  {
   "cell_type": "markdown",
   "id": "93ce2a25",
   "metadata": {},
   "source": [
    "7.State a character used to give single-line comments in python?"
   ]
  },
  {
   "cell_type": "markdown",
   "id": "de619079",
   "metadata": {},
   "source": [
    "”#” is used for single line commenting in python."
   ]
  },
  {
   "cell_type": "markdown",
   "id": "25b2fa1f",
   "metadata": {},
   "source": [
    "8.Mention functions which can help us to find the virsion of python that we are currently working on?"
   ]
  },
  {
   "cell_type": "markdown",
   "id": "ad69cdd5",
   "metadata": {},
   "source": [
    "python_version() is used to get info about the python version."
   ]
  },
  {
   "cell_type": "markdown",
   "id": "b1702a56",
   "metadata": {},
   "source": [
    "9. python supports the creation of anonymus functions at runtime,using a construct calles."
   ]
  },
  {
   "cell_type": "markdown",
   "id": "8a5f31a7",
   "metadata": {},
   "source": [
    "python supports the creation of anonymous functions at runtime known as “lambda”."
   ]
  },
  {
   "cell_type": "markdown",
   "id": "f6586ed3",
   "metadata": {},
   "source": [
    "10.what dose pip stand for python ?"
   ]
  },
  {
   "cell_type": "markdown",
   "id": "bed1c8e6",
   "metadata": {},
   "source": [
    "preferred installer program is full form of pip in python."
   ]
  },
  {
   "cell_type": "markdown",
   "id": "9ccc21be",
   "metadata": {},
   "source": [
    "11.mention a few built-in functions in python?"
   ]
  },
  {
   "cell_type": "markdown",
   "id": "8f90ae72",
   "metadata": {},
   "source": [
    "chr(),dict(),sum()max(),min(),dir() etc. is pre pre-defined function in python."
   ]
  },
  {
   "cell_type": "markdown",
   "id": "b71a2896",
   "metadata": {},
   "source": [
    "12.what is maximum possible length of an identifier in python?"
   ]
  },
  {
   "cell_type": "markdown",
   "id": "7bc9039b",
   "metadata": {},
   "source": [
    "79 characters is the maximum possible length of an identifier in python."
   ]
  },
  {
   "cell_type": "markdown",
   "id": "b016f315",
   "metadata": {},
   "source": [
    "13.what are the benefits of of using python?"
   ]
  },
  {
   "cell_type": "markdown",
   "id": "faaa386c",
   "metadata": {},
   "source": [
    "Python is an easy language to use and it is popular across many fields like Data Science,Machine learning ,Artificial Intelligence and Software/web Development."
   ]
  },
  {
   "cell_type": "markdown",
   "id": "92c76465",
   "metadata": {},
   "source": [
    "14.How is m memory managed in Python?"
   ]
  },
  {
   "cell_type": "markdown",
   "id": "c1473c88",
   "metadata": {},
   "source": []
  },
  {
   "cell_type": "markdown",
   "id": "98dabf89",
   "metadata": {},
   "source": [
    "15.How to install Python on Windowss and set path variables?"
   ]
  },
  {
   "cell_type": "markdown",
   "id": "0e2c53be",
   "metadata": {},
   "source": [
    "Go to python.org and download the installation file from the download section.\n",
    "Click on python.exe file to install\n",
    "After installation right click on this pc  and select add path\n",
    "Add path as \\user\\Roshan\\AppData\\Local\\Programs\\Python\\Python.(version)\n",
    "All done.\n"
   ]
  },
  {
   "cell_type": "markdown",
   "id": "83b097d2",
   "metadata": {},
   "source": [
    "16.is indentantion required in python?"
   ]
  },
  {
   "cell_type": "markdown",
   "id": "0ede458f",
   "metadata": {},
   "source": [
    "Each and every object in Python when stored into the memory is being allocated a unique identification number that helps the Python compiler to perform better and utilize memory efficiently. Each object has its own unique identity assigned to it as an integer number which differentiates it from other objects.\n"
   ]
  }
 ],
 "metadata": {
  "kernelspec": {
   "display_name": "Python 3 (ipykernel)",
   "language": "python",
   "name": "python3"
  },
  "language_info": {
   "codemirror_mode": {
    "name": "ipython",
    "version": 3
   },
   "file_extension": ".py",
   "mimetype": "text/x-python",
   "name": "python",
   "nbconvert_exporter": "python",
   "pygments_lexer": "ipython3",
   "version": "3.9.7"
  }
 },
 "nbformat": 4,
 "nbformat_minor": 5
}
