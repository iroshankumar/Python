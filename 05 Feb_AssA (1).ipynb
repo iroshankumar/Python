{
 "cells": [
  {
   "cell_type": "code",
   "execution_count": null,
   "id": "a99567b1",
   "metadata": {},
   "outputs": [],
   "source": [
    "Q1. Explain Class and Object with respect to Object-Oriented Programming. Give a suitable example.\n"
   ]
  },
  {
   "cell_type": "code",
   "execution_count": null,
   "id": "f98dd5b2",
   "metadata": {},
   "outputs": [],
   "source": [
    "1. Class\n",
    "Class is a user-defined datatype that contain its own data members and member functions. The member functions and data members can be accessed with the help of objects. It is the primary concept of object-oriented programming. A class is used to organize information or data so a programmer can reuse the elements in multiple instances.\n",
    "\n",
    "For example, if a programmer wants to make three instances of Dogs, Golden Retriever, poodle, and Maltese dog. The class dog would store similar information that is unique to each dog (although they are different species, they will have similar property attributes) and appropriate information will be associated with the class Dog.\n",
    "\n",
    "Syntax of class –\n",
    "\n",
    "class <className>\n",
    "\n",
    " {\n",
    "\n",
    " public:\n",
    "\n",
    "     (public data member and member functions)\n",
    "\n",
    " private:\n",
    "\n",
    "     (private data members and member functions)\n",
    "\n",
    " \n",
    "\n",
    " };\n",
    "\n",
    "2. Object\n",
    "An object is an instance of a class. As already mentioned above, all the data members and member functions of the class can be accessed with the help of objects.\n",
    "\n",
    "An object in OOP is a component which consists of properties to make a particular data useful. For example, let’s consider a class Student. We can access various student details using some common property attributes like student name, roll number, etc.\n",
    "\n",
    "An object consists of –\n",
    "\n",
    "Name – name of the variable\n",
    "Member data - data that describes the object\n",
    "Member functions - functions related to the object that also describes the behavior\n",
    "Example –\n",
    "\n",
    "class myClass {       // Declaring a class\n",
    "  public:             // Access specifier\n",
    "    int num;        \n",
    "    string String;  \n",
    "};\n",
    "\n",
    "int main() {\n",
    "  myClass Object;  // Creating an object of myClass\n",
    "\n",
    "  // Access attributes and set values\n",
    "  Object.num = 17; \n",
    "  Object.String = “Hello World\";\n",
    "\n",
    "  // Print\n",
    "  cout << Object.num << \"\\n\";\n",
    "  cout << Object.String;\n",
    "  return 0;\n",
    "}\n",
    "\n"
   ]
  },
  {
   "cell_type": "code",
   "execution_count": null,
   "id": "a2ac7775",
   "metadata": {},
   "outputs": [],
   "source": [
    "Q2. Name the four pillars of OOPs.\n"
   ]
  },
  {
   "cell_type": "code",
   "execution_count": null,
   "id": "180d9a1b",
   "metadata": {},
   "outputs": [],
   "source": [
    "1. Abstraction\n",
    "\n",
    "2. Encapsulation\n",
    "\n",
    "3. Inheritance\n",
    "\n",
    "4. Polymorphism"
   ]
  },
  {
   "cell_type": "code",
   "execution_count": null,
   "id": "9f0ef1a0",
   "metadata": {},
   "outputs": [],
   "source": [
    "Q3. Explain why the __init__() function is used. Give a suitable example.\n"
   ]
  },
  {
   "cell_type": "code",
   "execution_count": null,
   "id": "5dab6811",
   "metadata": {},
   "outputs": [],
   "source": [
    "The Default __init__ Constructor in C++ and Java. Constructors are used to initializing the object’s state.\n",
    "The task of constructors is to initialize(assign values) to the data members of the class when an object of the class is created.\n",
    "Like methods, a constructor also contains a collection of statements(i.e. instructions) that are executed at the time of Object creation.\n",
    "It is run as soon as an object of a class is instantiated. \n",
    "The method is useful to do any initialization you want to do with your object.\n",
    "\n",
    "example: \n",
    "class Person:\n",
    "\n",
    "    def __init__(self, name):\n",
    "        self.name = name\n",
    "    def say_hi(self):\n",
    "        print('Hello, my name is', self.name)\n",
    "p = Person('Nikhil')\n",
    "p.say_hi()\n"
   ]
  },
  {
   "cell_type": "code",
   "execution_count": null,
   "id": "c98d6b62",
   "metadata": {},
   "outputs": [],
   "source": [
    "Q4. Why self is used in OOPs?"
   ]
  },
  {
   "cell_type": "code",
   "execution_count": null,
   "id": "f1413036",
   "metadata": {},
   "outputs": [],
   "source": [
    "The self variable is used to represent the instance of the class which is often used in object-oriented programming. \n",
    "It works as a reference to the object. \n",
    "Python uses the self parameter to refer to instance attributes and methods of the class."
   ]
  },
  {
   "cell_type": "code",
   "execution_count": null,
   "id": "ddbd10b5",
   "metadata": {},
   "outputs": [],
   "source": [
    "Q5. What is inheritance? Give an example for each type of inheritance."
   ]
  },
  {
   "cell_type": "code",
   "execution_count": null,
   "id": "f036adf3",
   "metadata": {},
   "outputs": [],
   "source": [
    "Inheritance is a mechanism in which one class acquires the property of another class.\n",
    "For example, a child inherits the traits of his/her parents. With inheritance, \n",
    "we can reuse the fields and methods of the existing class.\n",
    "Hence, inheritance facilitates Reusability and is an important concept of OOPs.\n",
    "\n",
    "#types\n",
    "Single Inheritance:\n",
    "In Single Inheritance one class extends another class (one class only).\n",
    "\n",
    "Multiple Inheritance:\n",
    "Multiple Inheritance is one of the inheritance in python types \n",
    "where one class extending more than one class. python does support multiple inheritance.\n",
    "\n",
    "Hierarchical Inheritance:\n",
    "In Hierarchical Inheritance, one class is inherited by many sub classes.\n"
   ]
  }
 ],
 "metadata": {
  "kernelspec": {
   "display_name": "Python 3 (ipykernel)",
   "language": "python",
   "name": "python3"
  },
  "language_info": {
   "codemirror_mode": {
    "name": "ipython",
    "version": 3
   },
   "file_extension": ".py",
   "mimetype": "text/x-python",
   "name": "python",
   "nbconvert_exporter": "python",
   "pygments_lexer": "ipython3",
   "version": "3.9.7"
  }
 },
 "nbformat": 4,
 "nbformat_minor": 5
}
