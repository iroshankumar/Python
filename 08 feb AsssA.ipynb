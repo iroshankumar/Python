{
 "cells": [
  {
   "cell_type": "code",
   "execution_count": null,
   "id": "cf4c1d00",
   "metadata": {},
   "outputs": [],
   "source": [
    "Q1. What is Abstraction in OOps? Explain with an example."
   ]
  },
  {
   "cell_type": "code",
   "execution_count": null,
   "id": "27675276",
   "metadata": {},
   "outputs": [],
   "source": [
    "Abstraction is the process of hiding the internal details of an application from the outer world.\n",
    "Abstraction is used to describe things in simple terms.\n",
    "It’s used to create a boundary between the application and the client programs.\n",
    "\n",
    "#example:\n",
    "Your car is a great example of abstraction. \n",
    "You can start a car by turning the key or pressing the start button.\n",
    "You don’t need to know how the engine is getting started,what all components your car has. \n",
    "The car internal implementation and complex logic is completely hidden from the user.\n"
   ]
  },
  {
   "cell_type": "code",
   "execution_count": null,
   "id": "c617d4fe",
   "metadata": {},
   "outputs": [],
   "source": [
    "Q2. Differentiate between Abstraction and Encapsulation. Explain with an example."
   ]
  },
  {
   "cell_type": "code",
   "execution_count": null,
   "id": "37d599c4",
   "metadata": {},
   "outputs": [],
   "source": [
    "Abstraction is hiding the details and implementation of the code.\n",
    "Encapsulation is hiding the data and controlling the visibility of the code."
   ]
  },
  {
   "cell_type": "code",
   "execution_count": null,
   "id": "5facf2b1",
   "metadata": {},
   "outputs": [],
   "source": [
    "Q3. What is abc module in python? Why is it used?"
   ]
  },
  {
   "cell_type": "code",
   "execution_count": null,
   "id": "06f9df5b",
   "metadata": {},
   "outputs": [],
   "source": [
    "The 'abc' module in Python library provides the infrastructure for defining custom abstract base classes. \n",
    "'abc' works by marking methods of the base class as abstract.\n",
    "This is done by @absttractmethod decorator\n",
    "#example\n",
    "import abc\n",
    "class Shape(metaclass=abc.ABCMeta):\n",
    "   @abc.abstractmethod\n",
    "   def area(self):\n",
    "      pass\n",
    "class Rectangle(Shape):\n",
    "   def __init__(self, x,y):\n",
    "      self.l = x\n",
    "      self.b=y\n",
    "   def area(self):\n",
    "      return self.l*self.b\n",
    "r = Rectangle(10,20)\n",
    "print ('area: ',r.area())"
   ]
  },
  {
   "cell_type": "code",
   "execution_count": null,
   "id": "6d29e9d3",
   "metadata": {},
   "outputs": [],
   "source": [
    "Q4. How can we achieve data abstraction?"
   ]
  },
  {
   "cell_type": "code",
   "execution_count": null,
   "id": "8df71d20",
   "metadata": {},
   "outputs": [],
   "source": [
    "Data Abstraction in Python can be achieved through creating abstract classes and inheriting them later.\n",
    "Before discussing what abstract classes are, let us have a brief introduction of inheritance. \n",
    "Inheritance in OOP is a way through which one class inherits the attributes and methods of another class."
   ]
  },
  {
   "cell_type": "code",
   "execution_count": null,
   "id": "4c402357",
   "metadata": {},
   "outputs": [],
   "source": [
    "Q5. Can we create an instance of an abstract class? Explain your answer."
   ]
  },
  {
   "cell_type": "code",
   "execution_count": null,
   "id": "14d4aab7",
   "metadata": {},
   "outputs": [],
   "source": [
    "Abstract classes cannot be instantiated, but they can be subclassed. \n",
    "When an abstract class is subclassed, the subclass usually provides implementations for all of the abstract methods in its parent class.\n",
    "However, if it does not, then the subclass must also be declared abstract ."
   ]
  }
 ],
 "metadata": {
  "kernelspec": {
   "display_name": "Python 3 (ipykernel)",
   "language": "python",
   "name": "python3"
  },
  "language_info": {
   "codemirror_mode": {
    "name": "ipython",
    "version": 3
   },
   "file_extension": ".py",
   "mimetype": "text/x-python",
   "name": "python",
   "nbconvert_exporter": "python",
   "pygments_lexer": "ipython3",
   "version": "3.9.7"
  }
 },
 "nbformat": 4,
 "nbformat_minor": 5
}
