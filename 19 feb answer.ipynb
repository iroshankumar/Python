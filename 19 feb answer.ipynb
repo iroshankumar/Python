{
  "metadata": {
    "language_info": {
      "codemirror_mode": {
        "name": "python",
        "version": 3
      },
      "file_extension": ".py",
      "mimetype": "text/x-python",
      "name": "python",
      "nbconvert_exporter": "python",
      "pygments_lexer": "ipython3",
      "version": "3.8"
    },
    "kernelspec": {
      "name": "python",
      "display_name": "Python (Pyodide)",
      "language": "python"
    }
  },
  "nbformat_minor": 4,
  "nbformat": 4,
  "cells": [
    {
      "cell_type": "markdown",
      "source": "# Q1. What is Flask Framework? What are the advantages of Flask Framework?\n",
      "metadata": {}
    },
    {
      "cell_type": "markdown",
      "source": "### Flask is a micro web framework for Python based on Werkzeug and Jinja2. It's lightweight and modular, making it adaptable to developers' needs. Some advantages of Flask include its simplicity, flexibility, and the extensive documentation and community support it has.",
      "metadata": {}
    },
    {
      "cell_type": "markdown",
      "source": "# Q2. Create a simple Flask application to display ‘Hello World!!’. Attach the screenshot of the output inJupyter Notebook.\n",
      "metadata": {}
    },
    {
      "cell_type": "code",
      "source": "from flask import Flask\napp = Flask(__name__)\n\n@app.route('/')\ndef hello_world():\n    return 'Hello World!!'\n\nif __name__ == '__main__':\n    app.run()",
      "metadata": {},
      "execution_count": null,
      "outputs": []
    },
    {
      "cell_type": "markdown",
      "source": "# Q3. What is App routing in Flask? Why do we use app routes?",
      "metadata": {}
    },
    {
      "cell_type": "markdown",
      "source": "### In Flask, routing refers to the mechanism of mapping URLs to specific functions in your application. App routing in Flask is achieved using the @app.route() decorator. It tells Flask which URL should call the associated function.\n\n### We use app routes to define different functionalities for different URLs. For example, you might want the root URL ('/') to display the home page, '/about' to display information about your company, and '/contact' to show contact details. By using app routes, you can keep your code organized and maintain different functionalities for different URLs.\n\n",
      "metadata": {}
    },
    {
      "cell_type": "markdown",
      "source": "# Q4. Create a “/welcome” route to display the welcome message “Welcome to ABC Corporation” and a “/”\nroute to show the following details:\nCompany Name: ABC Corporation\nLocation: India\nContact Detail: 999-999-9999\nAttach the screenshot of the output in Jupyter Notebook.\n",
      "metadata": {
        "tags": []
      }
    },
    {
      "cell_type": "code",
      "source": "\nfrom flask import Flask\n\napp = Flask(__name__)\n\n@app.route('/')\ndef home():\n    return '''Company Name: ABC Corporation\n              Location: India\n              Contact Detail: 999-999-9999'''\n\n@app.route('/welcome')\ndef welcome():\n    return 'Welcome to ABC Corporation'\n\nif __name__ == '__main__':\n    app.run()",
      "metadata": {},
      "execution_count": null,
      "outputs": []
    },
    {
      "cell_type": "markdown",
      "source": "## Q5. What function is used in Flask for URL Building? Write a Python code to demonstrate the working of the\nurl_for() function. ",
      "metadata": {}
    },
    {
      "cell_type": "code",
      "source": "In Flask, the url_for() function is used for URL building. It generates a URL to the specified endpoint with the method provided.\n\nHere's a simple example demonstrating the use of url_for():\n\nfrom flask import Flask, url_for\n\napp = Flask(__name__)\n\n@app.route('/')\ndef index():\n    return 'Index Page'\n\n@app.route('/hello')\ndef hello():\n    return 'Hello, World!'\n\nwith app.test_request_context():\n    print(url_for('index'))  # Output: '/'\n    print(url_for('hello'))  # Output: '/hello'\n\nIn this example, url_for('index') generates the URL for the 'index' endpoint ('/'), and url_for('hello') generates the URL for the 'hello' endpoint ('/hello').\n\nI hope this helps! Let me know if you have further questions or issues!",
      "metadata": {},
      "execution_count": null,
      "outputs": []
    }
  ]
}