{
 "cells": [
  {
   "cell_type": "code",
   "execution_count": null,
   "id": "61b434e0",
   "metadata": {},
   "outputs": [],
   "source": [
    "Q1, Create a vehicle class with an init method having instance variables as name_of_vehicle, max_speed\n",
    "and average_of_vehicle."
   ]
  },
  {
   "cell_type": "code",
   "execution_count": 1,
   "id": "72af917f",
   "metadata": {},
   "outputs": [],
   "source": [
    "class vehicle:\n",
    "    def __init__(self,name_of_vehicle, max_speed,average_of_vehicle):\n",
    "        self.name=name_of_vehicle\n",
    "        self.max=max_speed\n",
    "        self.avg=average_of_vehicle\n",
    "    def Ret(self):\n",
    "        return self.name,self.avg,self.max"
   ]
  },
  {
   "cell_type": "code",
   "execution_count": null,
   "id": "ce111081",
   "metadata": {},
   "outputs": [],
   "source": [
    "Q2. Create a child class car from the vehicle class created in Que 1, which will inherit the vehicle class.\n",
    "Create a method named seating_capacity which takes capacity as an argument and returns the name of\n",
    "the vehicle and its seating capacity.\n"
   ]
  },
  {
   "cell_type": "code",
   "execution_count": 22,
   "id": "f43739ac",
   "metadata": {},
   "outputs": [],
   "source": [
    "class car(vehicle):\n",
    "    def __init__(self,argument):\n",
    "        self.argument=argument\n",
    "    def retur(self):\n",
    "        return self.argument"
   ]
  },
  {
   "cell_type": "code",
   "execution_count": null,
   "id": "30711662",
   "metadata": {},
   "outputs": [],
   "source": []
  },
  {
   "cell_type": "code",
   "execution_count": null,
   "id": "c7455ca4",
   "metadata": {},
   "outputs": [],
   "source": [
    "Q3. What is multiple inheritance? Write a python code to demonstrate multiple inheritance.\n"
   ]
  },
  {
   "cell_type": "code",
   "execution_count": null,
   "id": "39de0470",
   "metadata": {},
   "outputs": [],
   "source": [
    "When a class is derived from more than one base class it is called multiple Inheritance. The derived class inherits all the features of the base case."
   ]
  },
  {
   "cell_type": "code",
   "execution_count": 25,
   "id": "97bc15fb",
   "metadata": {},
   "outputs": [],
   "source": [
    "class class11:\n",
    "    def test_11(self):\n",
    "        return \"this is class11\"\n",
    "class class22:\n",
    "    def test_22(self):\n",
    "        return \"class22\"\n",
    "class class33(class11,class22):\n",
    "    pass\n",
    "obj=class33"
   ]
  },
  {
   "cell_type": "code",
   "execution_count": null,
   "id": "fd78a369",
   "metadata": {},
   "outputs": [],
   "source": [
    "Q4. What are getter and setter in python? Create a class and create a getter and a setter method in this\n",
    "class.\n"
   ]
  },
  {
   "cell_type": "code",
   "execution_count": null,
   "id": "75608f26",
   "metadata": {},
   "outputs": [],
   "source": [
    "Getters: These are the methods used in Object-Oriented Programming (OOPS) which helps to access the private attributes from a class.\n",
    "Setters: These are the methods used in OOPS feature which helps to set the value to private attributes in a class.\n"
   ]
  },
  {
   "cell_type": "code",
   "execution_count": null,
   "id": "881fdc63",
   "metadata": {},
   "outputs": [],
   "source": [
    "class SampleClass:\n",
    "\n",
    "    def __init__(self, a):\n",
    "        ## private varibale or property in Python\n",
    "        self.__a = a\n",
    "\n",
    "    ## getter method to get the properties using an object\n",
    "    def get_a(self):\n",
    "        return self.__a\n",
    "\n",
    "    ## setter method to change the value 'a' using an object\n",
    "    def set_a(self, a):\n",
    "        self.__a = a"
   ]
  },
  {
   "cell_type": "code",
   "execution_count": null,
   "id": "cb20a40c",
   "metadata": {},
   "outputs": [],
   "source": [
    "Q5.What is method overriding in python? Write a python code to demonstrate method overriding."
   ]
  },
  {
   "cell_type": "code",
   "execution_count": null,
   "id": "c3a7f3bc",
   "metadata": {},
   "outputs": [],
   "source": [
    "Two or more methods have the same name but different numbers of parameters or different types of parameters, or both. These methods are called overloaded methods and this is called method overloading. "
   ]
  },
  {
   "cell_type": "code",
   "execution_count": null,
   "id": "6577a049",
   "metadata": {},
   "outputs": [],
   "source": [
    "# First product method.\n",
    "# Takes two argument and print their\n",
    "# product\n",
    " \n",
    " \n",
    "def product(a, b):\n",
    "    p = a * b\n",
    "    print(p)\n",
    " \n",
    "# Second product method\n",
    "# Takes three argument and print their\n",
    "# product\n",
    " \n",
    " \n",
    "def product(a, b, c):\n",
    "    p = a * b*c\n",
    "    print(p)\n",
    " \n",
    "# Uncommenting the below line shows an error\n",
    "# product(4, 5)\n",
    " \n",
    " \n",
    "# This line will call the second product method\n",
    "product(4, 5, 5)"
   ]
  }
 ],
 "metadata": {
  "kernelspec": {
   "display_name": "Python 3 (ipykernel)",
   "language": "python",
   "name": "python3"
  },
  "language_info": {
   "codemirror_mode": {
    "name": "ipython",
    "version": 3
   },
   "file_extension": ".py",
   "mimetype": "text/x-python",
   "name": "python",
   "nbconvert_exporter": "python",
   "pygments_lexer": "ipython3",
   "version": "3.9.7"
  }
 },
 "nbformat": 4,
 "nbformat_minor": 5
}
