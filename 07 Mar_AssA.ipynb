{
  "nbformat": 4,
  "nbformat_minor": 0,
  "metadata": {
    "colab": {
      "provenance": []
    },
    "kernelspec": {
      "name": "python3",
      "display_name": "Python 3"
    },
    "language_info": {
      "name": "python"
    }
  },
  "cells": [
    {
      "cell_type": "code",
      "execution_count": null,
      "metadata": {
        "id": "DuBPdUgHi82f"
      },
      "outputs": [],
      "source": [
        "Q1. What are the three measures of central tendency?\n",
        "\n",
        "The three measures of central tendency are mean, median, and mode.\n"
      ]
    },
    {
      "cell_type": "code",
      "source": [
        "Q2. What is the difference between the mean, median, and mode? How are they used to measure the central tendency of a dataset?\n",
        "\n",
        "The mean is the sum of all values in a dataset divided by the number of values. The median is the middle value of a dataset when it is arranged in order. The mode is the value that appears most frequently in a dataset. These measures are used to measure the central tendency of a dataset by providing a single value that represents the \"typical\" value in the dataset.\n",
        "\n"
      ],
      "metadata": {
        "id": "1gxTIMSQjFsu"
      },
      "execution_count": null,
      "outputs": []
    },
    {
      "cell_type": "code",
      "source": [
        "Q3. Measure the three measures of central tendency for the given height data:\n",
        "[178,177,176,177,178.2,178,175,179,180,175,178.9,176.2,177,172.5,178,176.5]\n",
        "\n",
        "Mean = 177.93\n",
        "Median = 177.5\n",
        "Mode = 177 and 178\n",
        "\n"
      ],
      "metadata": {
        "id": "Jj8A1CC8i_kN"
      },
      "execution_count": null,
      "outputs": []
    },
    {
      "cell_type": "code",
      "source": [
        "Q4. Find the standard deviation for the given data:\n",
        "[178,177,176,177,178.2,178,175,179,180,175,178.9,176.2,177,172.5,178,176.5]\n",
        "\n",
        "Standard deviation = 2.241\n",
        "\n"
      ],
      "metadata": {
        "id": "K4NZRsFqjWY9"
      },
      "execution_count": null,
      "outputs": []
    },
    {
      "cell_type": "code",
      "source": [
        "Q5. How are measures of dispersion such as range, variance, and standard deviation used to describe the spread of a dataset? Provide an example.\n",
        "\n",
        "Measures of dispersion are used to describe how spread out the values in a dataset are. Range is the difference between the maximum and minimum values in a dataset. Variance is the average of the squared differences from the mean. Standard deviation is the square root of the variance. For example, a dataset with a large range or standard deviation indicates that the values are more spread out, while a small range or standard deviation indicates that the values are more clustered together.\n",
        "\n"
      ],
      "metadata": {
        "id": "opwUHVycjZG0"
      },
      "execution_count": null,
      "outputs": []
    },
    {
      "cell_type": "code",
      "source": [
        "Q6. What is a Venn diagram?\n",
        "\n",
        "A Venn diagram is a diagram that uses circles or other shapes to represent sets of items or groups. The circles overlap to show how the sets or groups are related and how they overlap.\n",
        "\n"
      ],
      "metadata": {
        "id": "dVUqluRljcTW"
      },
      "execution_count": null,
      "outputs": []
    },
    {
      "cell_type": "code",
      "source": [
        "Q7. For the two given sets A = (2,3,4,5,6,7) & B = (0,2,6,8,10). Find:\n",
        "(i) A B = (0,2,3,4,5,6,7,8,10)\n",
        "(ii) A ⋃ B = (0,2,3,4,5,6,7,8,10)\n",
        "\n"
      ],
      "metadata": {
        "id": "cPJ2vZqQjiU0"
      },
      "execution_count": null,
      "outputs": []
    },
    {
      "cell_type": "code",
      "source": [
        "Q8. What do you understand about skewness in data?\n",
        "\n",
        "Skewness in data refers to the degree of asymmetry in the distribution of values. If a distribution is symmetric, it has zero skewness. If a distribution has a longer tail on the left side, it is left-skewed (negative skewness), while if it has a longer tail on the right side, it is right-skewed (positive skewness).\n",
        "\n"
      ],
      "metadata": {
        "id": "2lNvf79jjltM"
      },
      "execution_count": null,
      "outputs": []
    },
    {
      "cell_type": "code",
      "source": [
        "Q9. If a data is right skewed then what will be the position of median with respect to mean?\n",
        "\n",
        "If a data is right-skewed, the median will be less than the mean.\n"
      ],
      "metadata": {
        "id": "x67SK_AjjnVo"
      },
      "execution_count": null,
      "outputs": []
    },
    {
      "cell_type": "code",
      "source": [
        "Q10. Explain the difference between covariance and correlation. How are these measures used in statistical analysis?\n",
        "\n",
        "Covariance is a measure of the linear relationship between two variables. It measures how much two variables change together. Correlation is a standardized version of covariance that ranges between -1 and 1. It measures the strength and direction of the linear relationship between two variables. Both measures are used in statistical analysis to understand the relationship between variables and to make predictions.\n",
        "\n"
      ],
      "metadata": {
        "id": "8huMr2O2jp1I"
      },
      "execution_count": null,
      "outputs": []
    },
    {
      "cell_type": "code",
      "source": [
        "Q11. What is the formula for calculating the sample mean? Provide an example calculation for a dataset.\n",
        "\n",
        "The formula for calculating the sample mean is:\n",
        "\n",
        "sample mean = (sum of all values in the sample) / (number of values in the sample)\n",
        "\n",
        "Here's an example calculation for a dataset in Python:\n",
        "# example dataset\n",
        "data = [2, 5, 7, 8, 9]\n",
        "\n",
        "# calculate the sample mean\n",
        "sample_mean = sum(data) / len(data)\n",
        "\n",
        "print(\"Sample mean:\", sample_mean)\n",
        "\n",
        "\n",
        "Output:\n",
        "Sample mean: 6.2\n",
        "\n",
        "In this example, the sum of all values in the sample is 31 and the number of values in the sample is 5. Therefore, the sample mean is 6.2 (31 divided by 5)."
      ],
      "metadata": {
        "id": "cWstCLMskr7q"
      },
      "execution_count": null,
      "outputs": []
    },
    {
      "cell_type": "code",
      "source": [
        "Q12. For a normal distribution data what is the relationship between its measure of central tendency?\n",
        "\n",
        "For a normal distribution data, the mean, median, and mode are equal. \n",
        "This is because the normal distribution is symmetric, and the mean, median, and mode all represent the center of the distribution.\n"
      ],
      "metadata": {
        "id": "yfV6QIr2jtAF"
      },
      "execution_count": null,
      "outputs": []
    },
    {
      "cell_type": "code",
      "source": [
        "Q13. How is covariance different from correlation?\n",
        "Covariance and correlation are two measures used to describe the relationship between two variables.\n",
        "The main difference between the two is that covariance measures the direction of the relationship between two variables, while correlation measures both the direction and strength of the relationship. \n",
        "Covariance can take on any value, while correlation is always between -1 and 1. \n",
        "Additionally, correlation is a standardized measure, which means that it is not affected by the scale of the variables being measured."
      ],
      "metadata": {
        "id": "13EKV7fclNVT"
      },
      "execution_count": null,
      "outputs": []
    },
    {
      "cell_type": "code",
      "source": [
        "Q14. How do outliers affect measures of central tendency and dispersion? Provide an example.\n",
        "Outliers can have a significant impact on measures of central tendency and dispersion.\n",
        " For example, if a dataset contains a single extremely large value, the mean may be much larger than the other values in the dataset, leading to an inaccurate representation of the typical value. Similarly, \n",
        " if a dataset contains a single extremely small value, the mean may be much smaller than the other values in the dataset.\n",
        "  Outliers can also affect measures of dispersion such as variance and standard deviation, making them appear much larger or smaller than they would be without the outlier. \n",
        "  For instance, if a dataset has a single outlier that is much larger than the other values, the variance and standard deviation may be inflated, leading to an overestimation of the spread of the data."
      ],
      "metadata": {
        "id": "pH58m50SlRQn"
      },
      "execution_count": null,
      "outputs": []
    }
  ]
}