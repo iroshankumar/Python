{
 "cells": [
  {
   "cell_type": "markdown",
   "id": "1af39d0d-26d5-4ed6-9984-43f0c560c344",
   "metadata": {},
   "source": [
    "1.write a python program to accept percentage from the user and displat the grade according to the following criteria."
   ]
  },
  {
   "cell_type": "code",
   "execution_count": 4,
   "id": "49fce324-613e-41e0-a6ef-ad14cd9d11a4",
   "metadata": {},
   "outputs": [
    {
     "name": "stdin",
     "output_type": "stream",
     "text": [
      "enter your percentage 70\n"
     ]
    },
    {
     "name": "stdout",
     "output_type": "stream",
     "text": [
      "Grade C\n"
     ]
    }
   ],
   "source": [
    "a=int(input(\"enter your percentage\"))\n",
    "if(a>90):\n",
    "    print(\"Grade A\")\n",
    "elif(a>80 and a<=90):\n",
    "    print(\"Grade B\")\n",
    "elif(a>=60 and a<=80):\n",
    "    print(\"Grade C\")\n",
    "else:\n",
    "    print(\"Grade D\")"
   ]
  },
  {
   "cell_type": "markdown",
   "id": "928b3dc2-c1ca-4ee5-873e-08cf3b6cdfa6",
   "metadata": {},
   "source": [
    "2.write a python program to accept the cost price of a bike and display the road tax to be paid according to the following criteria"
   ]
  },
  {
   "cell_type": "code",
   "execution_count": 14,
   "id": "6b5334b6-2bab-490e-88bb-7057c8663527",
   "metadata": {},
   "outputs": [
    {
     "name": "stdin",
     "output_type": "stream",
     "text": [
      "Rate of your bike 55000\n"
     ]
    },
    {
     "name": "stdout",
     "output_type": "stream",
     "text": [
      "5500.0\n"
     ]
    }
   ],
   "source": [
    "intrestRate=0\n",
    "rate=int(input(\"Rate of your bike\"))\n",
    "if(rate>100000):\n",
    "    intrestRate=rate*0.15\n",
    "elif(rate>50000 and rate<=100000):\n",
    "    intrestRate=rate*0.10\n",
    "else:\n",
    "    intrestRate=rate*0.05\n",
    "print(intrestRate)"
   ]
  },
  {
   "cell_type": "markdown",
   "id": "2186cd4c-98b7-452e-8b31-0d07501c7c56",
   "metadata": {},
   "source": [
    "3.Accept any city from the user and display monument of that city"
   ]
  },
  {
   "cell_type": "code",
   "execution_count": 17,
   "id": "3661db9a-5595-420a-8a92-c57918d94020",
   "metadata": {},
   "outputs": [
    {
     "name": "stdin",
     "output_type": "stream",
     "text": [
      "City Name jaipur\n"
     ]
    },
    {
     "name": "stdout",
     "output_type": "stream",
     "text": [
      "Jal Mahal\n"
     ]
    }
   ],
   "source": [
    "\"\"\"using dict\"\"\"\n",
    "city={'Delhi':\"Red Fort\",'Agra':\"Taj Mahal\",'Jaipur':\"Jal Mahal\"}\n",
    "user=input(\"enter city name\")\n",
    "user=user.capitalize()\n",
    "print(city[user]\n",
    "\n"
   ]
  },
  {
   "cell_type": "markdown",
   "id": "89e0f596-d922-4ab9-9c94-f43582e70a21",
   "metadata": {},
   "source": [
    "4.check how many times a given number can be divided by 3 before it is less than or equal to 10"
   ]
  },
  {
   "cell_type": "code",
   "execution_count": null,
   "id": "3f6c6eda-9e5b-41bc-8d76-e71aa3342443",
   "metadata": {},
   "outputs": [],
   "source": [
    "number=int(input(\"Enter a numbaer\"))\n",
    "temp=0\n",
    "if number >10:\n",
    "    print(\"number is grater then 10\")\n",
    "elif number<10:\n",
    "    print(\"number is smaller then 10\")\n",
    "else :\n",
    "    print(\"invalid\")\n",
    "print(int(number/3))"
   ]
  },
  {
   "cell_type": "markdown",
   "id": "a164c03c-1d86-46c8-a9b4-138494f8ecea",
   "metadata": {},
   "source": [
    "5.why and when to use while loop in python give a detailed discription with example"
   ]
  },
  {
   "cell_type": "code",
   "execution_count": null,
   "id": "3c5a94f7-d775-4166-8010-136ae2114cae",
   "metadata": {},
   "outputs": [],
   "source": [
    "A for loop is a control flow statement that executes code for a predefined number of iterations.\n",
    "The keyword used in this control flow statement is “for”.\n",
    "When the number of iterations is already known, the for loop is used.\n"
   ]
  },
  {
   "cell_type": "code",
   "execution_count": 1,
   "id": "843160dc-f87c-408b-aaad-b0c95942493c",
   "metadata": {},
   "outputs": [
    {
     "name": "stdout",
     "output_type": "stream",
     "text": [
      "Input list elements:\n",
      "10\n",
      "20\n",
      "30\n",
      "40\n",
      "50\n"
     ]
    }
   ],
   "source": [
    "#Example\n",
    "# input list\n",
    "ListItems = [10, 20, 30, 40, 50]\n",
    "print(\"Input list elements:\")\n",
    "# traversing through all elements of the list using for loop\n",
    "for items in ListItems:\n",
    "   # printing each element of the list\n",
    "   print(items)"
   ]
  },
  {
   "cell_type": "code",
   "execution_count": null,
   "id": "c15ea0fa-87c1-49ed-aac1-7676c4e24f61",
   "metadata": {},
   "outputs": [],
   "source": [
    "A loop that runs a single statement or a set of statements for a given true condition.\n",
    "This loop is represented by the keyword \"while.\" When the number of iterations is unknown, a \"while\" loop is used.\n",
    "The statement is repeated until the boolean value is false. Because the condition is tested at the beginning of a while loop,\n",
    "it is also known as the pre-test loop."
   ]
  },
  {
   "cell_type": "code",
   "execution_count": 2,
   "id": "59c7df9b-21f9-4acd-a587-0022d0fb7e92",
   "metadata": {},
   "outputs": [
    {
     "name": "stdout",
     "output_type": "stream",
     "text": [
      "1\n",
      "2\n",
      "3\n",
      "4\n",
      "5\n",
      "6\n",
      "7\n",
      "8\n",
      "9\n"
     ]
    }
   ],
   "source": [
    "i = 1\n",
    "# Iterate until the given condition is true\n",
    "while i < 10:\n",
    "   # printing the current value of the above variable\n",
    "   print(i)\n",
    "   # incrementing the value of i value by 1\n",
    "   i += 1 "
   ]
  },
  {
   "cell_type": "markdown",
   "id": "faccac57-7189-4bee-b757-8472ee150d13",
   "metadata": {},
   "source": [
    "use nested while loop to print 3 different pattern"
   ]
  },
  {
   "cell_type": "code",
   "execution_count": 3,
   "id": "c8435a61-8c2b-4514-a4c4-4402d551cbd9",
   "metadata": {},
   "outputs": [
    {
     "name": "stdin",
     "output_type": "stream",
     "text": [
      "Enter number of rows :  8\n"
     ]
    },
    {
     "name": "stdout",
     "output_type": "stream",
     "text": [
      "* \n",
      "* * \n",
      "* * * \n",
      "* * * * \n",
      "* * * * * \n",
      "* * * * * * \n",
      "* * * * * * * \n",
      "* * * * * * * * \n"
     ]
    }
   ],
   "source": [
    "n = int(input('Enter number of rows : '))\n",
    " \n",
    "i = 1\n",
    "while i <= n :\n",
    "    j = 1\n",
    "    while j <= i:\n",
    "        print(\"*\", end = \" \")\n",
    "        j += 1\n",
    "    print()\n",
    "    i += 1"
   ]
  },
  {
   "cell_type": "code",
   "execution_count": 4,
   "id": "1570a825-0ab7-4965-933d-14614955d736",
   "metadata": {},
   "outputs": [
    {
     "name": "stdin",
     "output_type": "stream",
     "text": [
      "Enter number of rows :  8\n"
     ]
    },
    {
     "name": "stdout",
     "output_type": "stream",
     "text": [
      "* * * * * * * * \n",
      "* * * * * * * \n",
      "* * * * * * \n",
      "* * * * * \n",
      "* * * * \n",
      "* * * \n",
      "* * \n",
      "* \n"
     ]
    }
   ],
   "source": [
    "n = int(input('Enter number of rows : '))\n",
    " \n",
    "i = 1\n",
    "while i <= n :\n",
    "    j = n\n",
    "    while j >= i:\n",
    "        print(\"*\", end = \" \")\n",
    "        j -= 1\n",
    "    print()\n",
    "    i += 1"
   ]
  },
  {
   "cell_type": "code",
   "execution_count": 5,
   "id": "5db122d5-b3cb-491b-8c17-cc802e80239c",
   "metadata": {},
   "outputs": [
    {
     "name": "stdin",
     "output_type": "stream",
     "text": [
      "Enter number of rows :  8\n"
     ]
    },
    {
     "name": "stdout",
     "output_type": "stream",
     "text": [
      "  1 \n",
      "  2   3 \n",
      "  4   5   6 \n",
      "  7   8   9  10 \n",
      " 11  12  13  14  15 \n",
      " 16  17  18  19  20  21 \n",
      " 22  23  24  25  26  27  28 \n",
      " 29  30  31  32  33  34  35  36 \n"
     ]
    }
   ],
   "source": [
    "n = int(input('Enter number of rows : '))\n",
    " \n",
    "k = 1\n",
    "i = 1\n",
    "while i <= n :\n",
    "    j = 1\n",
    "    while j <= i:\n",
    "        print(\"{:3d}\".format(k), end = \" \")\n",
    "        j += 1\n",
    "        k += 1\n",
    "    print()\n",
    "    i += 1\n"
   ]
  },
  {
   "cell_type": "code",
   "execution_count": null,
   "id": "38cef06d-73f1-4776-9e72-9f89b0788341",
   "metadata": {},
   "outputs": [],
   "source": [
    "reverse a while loop to display numbers from 10 to 1"
   ]
  },
  {
   "cell_type": "code",
   "execution_count": 6,
   "id": "497e4d6e-ab40-4724-bfdd-4c68c74a046d",
   "metadata": {},
   "outputs": [
    {
     "name": "stdout",
     "output_type": "stream",
     "text": [
      "10\n",
      "9\n",
      "8\n",
      "7\n",
      "6\n",
      "5\n",
      "4\n",
      "3\n",
      "2\n",
      "1\n"
     ]
    }
   ],
   "source": [
    "i = 10\n",
    "while i > 0:\n",
    "    print(i)\n",
    "    i = i - 1"
   ]
  },
  {
   "cell_type": "code",
   "execution_count": null,
   "id": "4d9f6868-a435-4408-ab30-18a4112b2f27",
   "metadata": {},
   "outputs": [],
   "source": []
  }
 ],
 "metadata": {
  "kernelspec": {
   "display_name": "Python 3 (ipykernel)",
   "language": "python",
   "name": "python3"
  },
  "language_info": {
   "codemirror_mode": {
    "name": "ipython",
    "version": 3
   },
   "file_extension": ".py",
   "mimetype": "text/x-python",
   "name": "python",
   "nbconvert_exporter": "python",
   "pygments_lexer": "ipython3",
   "version": "3.10.8"
  }
 },
 "nbformat": 4,
 "nbformat_minor": 5
}
