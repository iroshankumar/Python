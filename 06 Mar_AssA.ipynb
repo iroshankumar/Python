{
  "nbformat": 4,
  "nbformat_minor": 0,
  "metadata": {
    "colab": {
      "provenance": []
    },
    "kernelspec": {
      "name": "python3",
      "display_name": "Python 3"
    },
    "language_info": {
      "name": "python"
    }
  },
  "cells": [
    {
      "cell_type": "code",
      "execution_count": null,
      "metadata": {
        "id": "zoqNrbgHc59K"
      },
      "outputs": [],
      "source": [
        "Q1. What is Statistics?\n"
      ]
    },
    {
      "cell_type": "code",
      "source": [
        "Statistics is a field of mathematics that focuses on collecting, analyzing, and interpreting data.\n",
        "It helps us understand what the data is telling us and make informed decisions based on that information. \n",
        "It involves using mathematical tools to summarize and draw conclusions from data, and it's used in many different fields to answer questions and solve problems."
      ],
      "metadata": {
        "id": "Avj3XyqbdMbP"
      },
      "execution_count": null,
      "outputs": []
    },
    {
      "cell_type": "code",
      "source": [
        "Q2. Define the different types of statistics and give an example of when each type might be used.\n"
      ],
      "metadata": {
        "id": "02zo7H6YdNtW"
      },
      "execution_count": null,
      "outputs": []
    },
    {
      "cell_type": "code",
      "source": [
        "There are two main types of statistics: descriptive statistics and inferential statistics.\n",
        "Descriptive statistics: Descriptive statistics involves describing and summarizing data in a meaningful way. It includes measures like mean, median, mode, range, variance, and standard deviation. Descriptive statistics are used to summarize and describe the characteristics of a dataset, including central tendency, variability, and distribution. For example, if a company wants to understand the average age of its employees, they could use descriptive statistics to calculate the mean or median age of their workforce.\n",
        "Inferential statistics: Inferential statistics involves making inferences or predictions about a population based on a sample of data. It allows researchers to generalize their findings from a sample to a larger population. Inferential statistics are used to test hypotheses, estimate parameters, and make predictions. For example, if a medical researcher wants to test the effectiveness of a new drug, they could use inferential statistics to determine if the drug is significantly more effective than a placebo, based on a sample of patients.\n",
        "Overall, both descriptive and inferential statistics are important tools for understanding and making decisions based on data. They are used in many different fields, including business, social sciences, health sciences, and more.  "
      ],
      "metadata": {
        "id": "lt8SRjSfdQoP"
      },
      "execution_count": null,
      "outputs": []
    },
    {
      "cell_type": "code",
      "source": [
        "Q3. What are the different types of data and how do they differ from each other? Provide an example of\n",
        "each type of data.\n"
      ],
      "metadata": {
        "id": "9WEx9ftGdQ0O"
      },
      "execution_count": null,
      "outputs": []
    },
    {
      "cell_type": "code",
      "source": [
        "The four main types of data are nominal, ordinal, interval, and ratio. Nominal data is categorical, ordinal data is ranked, interval data has meaningful differences but no true zero point, and ratio data has a true zero point and ratios can be calculated. Understanding these types of data is important for selecting appropriate statistical methods for analysis."
      ],
      "metadata": {
        "id": "aytdlAV0dTbE"
      },
      "execution_count": null,
      "outputs": []
    },
    {
      "cell_type": "code",
      "source": [
        "Q4. Categorise the following datasets with respect to quantitative and qualitative data types:\n",
        "(i) Grading in exam: A+, A, B+, B, C+, C, D, E\n",
        "(ii) Colour of mangoes: yellow, green, orange, red\n",
        "(iii) Height data of a class: [178.9, 179, 179.5, 176, 177.2, 178.3, 175.8,...]\n",
        "(iv) Number of mangoes exported by a farm: [500, 600, 478, 672, ...]\n",
        "\n"
      ],
      "metadata": {
        "id": "JooNQEikdTpr"
      },
      "execution_count": null,
      "outputs": []
    },
    {
      "cell_type": "code",
      "source": [
        "(i) Grading in exam: A+, A, B+, B, C+, C, D, E\n",
        "Data type: Qualitative/Categorical\n",
        "(ii) Colour of mangoes: yellow, green, orange, red\n",
        "Data type: Qualitative/Categorical\n",
        "(iii) Height data of a class: [178.9, 179, 179.5, 176, 177.2, 178.3, 175.8,...]\n",
        "Data type: Quantitative/Continuous\n",
        "(iv) Number of mangoes exported by a farm: [500, 600, 478, 672, ...]\n",
        "Data type: Quantitative/Discrete\n",
        "\n"
      ],
      "metadata": {
        "id": "hyDhOiXVdWDD"
      },
      "execution_count": null,
      "outputs": []
    },
    {
      "cell_type": "code",
      "source": [
        "Q5. Explain the concept of levels of measurement and give an example of a variable for each level."
      ],
      "metadata": {
        "id": "jplhZ20gdWnt"
      },
      "execution_count": null,
      "outputs": []
    },
    {
      "cell_type": "code",
      "source": [
        "Levels of measurement refer to the hierarchical structure of data measurement scales. The four levels are nominal, ordinal, interval, and ratio. Nominal variables have no numerical value, ordinal variables can be ordered, interval variables have meaningful distances but no true zero point, and ratio variables have a true zero point and meaningful ratios between values.\n"
      ],
      "metadata": {
        "id": "uG8sHcYHdbg7"
      },
      "execution_count": null,
      "outputs": []
    },
    {
      "cell_type": "code",
      "source": [
        "Q6. Why is it important to understand the level of measurement when analyzing data? Provide an\n",
        "example to illustrate your answer.\n"
      ],
      "metadata": {
        "id": "8pA0y6apdb3A"
      },
      "execution_count": null,
      "outputs": []
    },
    {
      "cell_type": "code",
      "source": [
        "It is important to understand the level of measurement when analyzing data because it determines which statistical methods are appropriate to use and what kind of inferences can be drawn from the data. Using an inappropriate statistical method can lead to incorrect conclusions or misleading results. For example, using a parametric test to analyze non-parametric data or vice versa can lead to incorrect conclusions."
      ],
      "metadata": {
        "id": "vNF3tAbKdelF"
      },
      "execution_count": null,
      "outputs": []
    },
    {
      "cell_type": "code",
      "source": [
        "Q7. How nominal data type is different from ordinal data type.\n"
      ],
      "metadata": {
        "id": "8g5h0XDadfAU"
      },
      "execution_count": null,
      "outputs": []
    },
    {
      "cell_type": "code",
      "source": [
        "Nominal data is categorical and cannot be ranked, while ordinal data can be ranked but the distance between the categories is not necessarily equal. Nominal data has no numerical meaning, while ordinal data does have a degree of hierarchy. Examples of nominal data include gender, while examples of ordinal data include educational level.\n"
      ],
      "metadata": {
        "id": "3RyHWq6mdiJs"
      },
      "execution_count": null,
      "outputs": []
    },
    {
      "cell_type": "code",
      "source": [
        "Q8. Which type of plot can be used to display data in terms of range?\n"
      ],
      "metadata": {
        "id": "X-CtHzrmdiS0"
      },
      "execution_count": null,
      "outputs": []
    },
    {
      "cell_type": "code",
      "source": [
        "A box plot, also known as a box-and-whisker plot, can be used to display data in terms of range. The box in the plot represents the middle 50% of the data (i.e., the interquartile range), while the whiskers represent the minimum and maximum values or a certain multiple of the interquartile range. The median is also shown within the box. The box plot is useful for identifying outliers and visualizing the spread of the data."
      ],
      "metadata": {
        "id": "lln4VxQadlTP"
      },
      "execution_count": null,
      "outputs": []
    },
    {
      "cell_type": "code",
      "source": [
        "Q9. Describe the difference between descriptive and inferential statistics. Give an example of each\n",
        "type of statistics and explain how they are used.\n"
      ],
      "metadata": {
        "id": "GUsA-EfSdlyD"
      },
      "execution_count": null,
      "outputs": []
    },
    {
      "cell_type": "code",
      "source": [
        "Descriptive statistics is used to summarize and describe the characteristics of a sample or population, while inferential statistics is used to make inferences or predictions about a population based on a sample of data. Descriptive statistics include measures such as mean and standard deviation, while inferential statistics involve hypothesis testing and regression analysis. An example of descriptive statistics is calculating the mean height of a sample of people, while an example of inferential statistics is testing a hypothesis about the population mean height based on a sample mean and standard deviation."
      ],
      "metadata": {
        "id": "fTAt9pJ4dnrM"
      },
      "execution_count": null,
      "outputs": []
    },
    {
      "cell_type": "code",
      "source": [
        "Q10. What are some common measures of central tendency and variability used in statistics? Explain\n",
        "how each measure can be used to describe a dataset."
      ],
      "metadata": {
        "id": "huV5KZZjdn40"
      },
      "execution_count": null,
      "outputs": []
    },
    {
      "cell_type": "code",
      "source": [
        "Measures of central tendency, including mean, median, and mode, are used to describe where the center of a dataset lies. Measures of variability, such as range, variance, and standard deviation, describe the spread of the data. The mean is useful when data is normally distributed, while the median is better when data has outliers or is skewed. The mode is used for categorical data. Range is a simple measure of variability, while variance and standard deviation provide more precise information about the spread of the data."
      ],
      "metadata": {
        "id": "77GKh8X_ggh0"
      },
      "execution_count": null,
      "outputs": []
    },
    {
      "cell_type": "markdown",
      "source": [],
      "metadata": {
        "id": "ts0CmRKAgTHb"
      }
    }
  ]
}